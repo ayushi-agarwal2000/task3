{
 "cells": [
  {
   "cell_type": "code",
   "execution_count": null,
   "id": "c88aee0c",
   "metadata": {},
   "outputs": [],
   "source": [
    "import socket\n",
    "import cv2\n",
    "import pickle\n",
    "import struct"
   ]
  },
  {
   "cell_type": "code",
   "execution_count": null,
   "id": "5a42a639",
   "metadata": {},
   "outputs": [],
   "source": [
    "client_socket=socket.socket(socket.AF_INET,socket.SOCK_STREAM)\n",
    "host_ip='192.168.0.102'\n",
    "port =8888"
   ]
  },
  {
   "cell_type": "code",
   "execution_count": null,
   "id": "11ff4e90",
   "metadata": {},
   "outputs": [],
   "source": [
    "client_socket.connect((host_ip,port))\n",
    "data = b\"\"\n",
    "payload_size=struct.calcsize(\"Q\")\n"
   ]
  },
  {
   "cell_type": "code",
   "execution_count": null,
   "id": "ae98f161",
   "metadata": {},
   "outputs": [],
   "source": [
    "while True:\n",
    "    while len(data) < payload_size:\n",
    "        packet=client_socket.recv(4*1024)\n",
    "        if not packet:  break\n",
    "        data+=packet\n",
    "    packed_msg_size = data[:payload_size]\n",
    "    data=data[payload_size:]\n",
    "    msg_size=struct.unpack(\"Q\",packed_msg_size)[0]\n",
    "    \n",
    "    while len(data)<msg_size:\n",
    "        data+=client_socket.recv(4*1024)\n",
    "    frame_data=data[:msg_size]\n",
    "    data=data[msg_size:]\n",
    "    frame=pickle.loads(frame_data)\n",
    "    cv2.imshow(\"receiving\",frame)\n",
    "    key=cv2.waitKey(13) & 0xFF\n",
    "    if key==ord('q'):\n",
    "        break\n",
    "client_socket.close()\n",
    "        "
   ]
  },
  {
   "cell_type": "code",
   "execution_count": null,
   "id": "de58d7cf",
   "metadata": {},
   "outputs": [],
   "source": []
  }
 ],
 "metadata": {
  "kernelspec": {
   "display_name": "Python 3",
   "language": "python",
   "name": "python3"
  },
  "language_info": {
   "codemirror_mode": {
    "name": "ipython",
    "version": 3
   },
   "file_extension": ".py",
   "mimetype": "text/x-python",
   "name": "python",
   "nbconvert_exporter": "python",
   "pygments_lexer": "ipython3",
   "version": "3.8.8"
  }
 },
 "nbformat": 4,
 "nbformat_minor": 5
}
