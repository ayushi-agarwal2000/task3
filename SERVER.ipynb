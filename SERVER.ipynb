{
 "cells": [
  {
   "cell_type": "code",
   "execution_count": null,
   "id": "6f79561c",
   "metadata": {},
   "outputs": [],
   "source": [
    "import socket\n",
    "import cv2\n",
    "import pickle\n",
    "import struct"
   ]
  },
  {
   "cell_type": "code",
   "execution_count": null,
   "id": "5896e65e",
   "metadata": {},
   "outputs": [],
   "source": [
    "server_socket =socket.socket(socket.AF_INET,socket.SOCK_STREAM)\n",
    "host_name=socket.gethostname()\n",
    "host_ip=socket.gethostbyname(host_name)\n",
    "print('Host IP:',host_ip)\n",
    "port =8888\n",
    "socket_address=('192.168.0.102',port)"
   ]
  },
  {
   "cell_type": "code",
   "execution_count": null,
   "id": "cdc3f2ca",
   "metadata": {},
   "outputs": [],
   "source": [
    "server_socket.bind(socket_address)"
   ]
  },
  {
   "cell_type": "code",
   "execution_count": null,
   "id": "f9ae6a29",
   "metadata": {},
   "outputs": [],
   "source": [
    "server_socket.listen(5)\n",
    "print('listening',socket_address)"
   ]
  },
  {
   "cell_type": "code",
   "execution_count": null,
   "id": "8323f11b",
   "metadata": {},
   "outputs": [],
   "source": [
    "while True:\n",
    "    client_socket,addr=server_socket.accept()\n",
    "    print(\"connection\",addr)\n",
    "    if client_socket:\n",
    "        vid=cv2.VideoCapture(0)\n",
    "        \n",
    "        while(vid.isOpened()):\n",
    "            img,frame=vid.read()\n",
    "            a=pickle.dumps(frame)\n",
    "            message=struct.pack(\"Q\",len(a))+a\n",
    "            client_socket.sendall(message)\n",
    "            \n",
    "            cv2.imshow(\"Transmitting video\",frame)\n",
    "            key=cv2.waitKey(13) & 0xFF\n",
    "            if key ==ord('q'):\n",
    "                client_socket.close()"
   ]
  },
  {
   "cell_type": "code",
   "execution_count": null,
   "id": "4bedd121",
   "metadata": {},
   "outputs": [],
   "source": []
  }
 ],
 "metadata": {
  "kernelspec": {
   "display_name": "Python 3",
   "language": "python",
   "name": "python3"
  },
  "language_info": {
   "codemirror_mode": {
    "name": "ipython",
    "version": 3
   },
   "file_extension": ".py",
   "mimetype": "text/x-python",
   "name": "python",
   "nbconvert_exporter": "python",
   "pygments_lexer": "ipython3",
   "version": "3.8.8"
  }
 },
 "nbformat": 4,
 "nbformat_minor": 5
}
